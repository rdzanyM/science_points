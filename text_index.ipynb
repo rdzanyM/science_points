{
 "cells": [
  {
   "cell_type": "code",
   "execution_count": 1,
   "metadata": {
    "collapsed": true
   },
   "outputs": [],
   "source": [
    "from src import Config\n",
    "from src.text_index import IndexReader\n",
    "\n",
    "config = Config()\n",
    "\n",
    "ir = IndexReader(config)"
   ]
  },
  {
   "cell_type": "markdown",
   "source": [
    "Top candidate similarity is calculated accurately to allow for setting a threshold of relevant/irrelevant results.\n",
    "For example: if `sim` drops below 0.6, we may want to indicate in the interface that we are not certain of the result.\n",
    "\n",
    "The scores for candidates are only useful for ranking, their absolute values are not that meaningful.\n",
    "They are scaled so that the top result has score = 1."
   ],
   "metadata": {
    "collapsed": false,
    "pycharm": {
     "name": "#%% md\n"
    }
   }
  },
  {
   "cell_type": "code",
   "execution_count": 2,
   "outputs": [
    {
     "name": "stdout",
     "output_type": "stream",
     "text": [
      "Top candidate similarity: 0.9472589035614246\n"
     ]
    },
    {
     "data": {
      "text/plain": "        score                                               name  \\\nid                                                                 \n197  1.000000  Instytut Badań Systemowych Polskiej Akademii Nauk   \n309  0.613143  Instytut Systematyki i Ewolucji Zwierząt Polsk...   \n196  0.581534  Instytut Badań Literackich Polskiej Akademii Nauk   \n228  0.548672             Instytut Fizyki Polskiej Akademii Nauk   \n310  0.548672             Instytut Sztuki Polskiej Akademii Nauk   \n\n     domains_boost  \nid                  \n197              1  \n309              1  \n196              1  \n228              1  \n310              1  ",
      "text/html": "<div>\n<style scoped>\n    .dataframe tbody tr th:only-of-type {\n        vertical-align: middle;\n    }\n\n    .dataframe tbody tr th {\n        vertical-align: top;\n    }\n\n    .dataframe thead th {\n        text-align: right;\n    }\n</style>\n<table border=\"1\" class=\"dataframe\">\n  <thead>\n    <tr style=\"text-align: right;\">\n      <th></th>\n      <th>score</th>\n      <th>name</th>\n      <th>domains_boost</th>\n    </tr>\n    <tr>\n      <th>id</th>\n      <th></th>\n      <th></th>\n      <th></th>\n    </tr>\n  </thead>\n  <tbody>\n    <tr>\n      <th>197</th>\n      <td>1.000000</td>\n      <td>Instytut Badań Systemowych Polskiej Akademii Nauk</td>\n      <td>1</td>\n    </tr>\n    <tr>\n      <th>309</th>\n      <td>0.613143</td>\n      <td>Instytut Systematyki i Ewolucji Zwierząt Polsk...</td>\n      <td>1</td>\n    </tr>\n    <tr>\n      <th>196</th>\n      <td>0.581534</td>\n      <td>Instytut Badań Literackich Polskiej Akademii Nauk</td>\n      <td>1</td>\n    </tr>\n    <tr>\n      <th>228</th>\n      <td>0.548672</td>\n      <td>Instytut Fizyki Polskiej Akademii Nauk</td>\n      <td>1</td>\n    </tr>\n    <tr>\n      <th>310</th>\n      <td>0.548672</td>\n      <td>Instytut Sztuki Polskiej Akademii Nauk</td>\n      <td>1</td>\n    </tr>\n  </tbody>\n</table>\n</div>"
     },
     "execution_count": 2,
     "metadata": {},
     "output_type": "execute_result"
    }
   ],
   "source": [
    "sim, df = ir.query_monographs('Instytut badań Systemowawych polskiej akademii Nauk')\n",
    "print(f'Top candidate similarity: {sim}')\n",
    "df"
   ],
   "metadata": {
    "collapsed": false,
    "pycharm": {
     "name": "#%%\n"
    }
   }
  },
  {
   "cell_type": "code",
   "execution_count": 8,
   "outputs": [
    {
     "name": "stdout",
     "output_type": "stream",
     "text": [
      "Top candidate similarity: 0\n"
     ]
    },
    {
     "data": {
      "text/plain": "Empty DataFrame\nColumns: []\nIndex: []",
      "text/html": "<div>\n<style scoped>\n    .dataframe tbody tr th:only-of-type {\n        vertical-align: middle;\n    }\n\n    .dataframe tbody tr th {\n        vertical-align: top;\n    }\n\n    .dataframe thead th {\n        text-align: right;\n    }\n</style>\n<table border=\"1\" class=\"dataframe\">\n  <thead>\n    <tr style=\"text-align: right;\">\n      <th></th>\n    </tr>\n  </thead>\n  <tbody>\n  </tbody>\n</table>\n</div>"
     },
     "execution_count": 8,
     "metadata": {},
     "output_type": "execute_result"
    }
   ],
   "source": [
    "sim, df = ir.query_monographs('fffffffffffff')\n",
    "print(f'Top candidate similarity: {sim}')\n",
    "df"
   ],
   "metadata": {
    "collapsed": false,
    "pycharm": {
     "name": "#%%\n"
    }
   }
  },
  {
   "cell_type": "code",
   "execution_count": 4,
   "outputs": [
    {
     "name": "stdout",
     "output_type": "stream",
     "text": [
      "Top candidate similarity: 0.5945165945165946\n"
     ]
    },
    {
     "data": {
      "text/plain": "        score                                    name  domains_boost\nid                                                                  \n331  1.000000       John Benjamins Publishing Company              1\n624  0.966923  William B. Eerdmans Publishing Company              1",
      "text/html": "<div>\n<style scoped>\n    .dataframe tbody tr th:only-of-type {\n        vertical-align: middle;\n    }\n\n    .dataframe tbody tr th {\n        vertical-align: top;\n    }\n\n    .dataframe thead th {\n        text-align: right;\n    }\n</style>\n<table border=\"1\" class=\"dataframe\">\n  <thead>\n    <tr style=\"text-align: right;\">\n      <th></th>\n      <th>score</th>\n      <th>name</th>\n      <th>domains_boost</th>\n    </tr>\n    <tr>\n      <th>id</th>\n      <th></th>\n      <th></th>\n      <th></th>\n    </tr>\n  </thead>\n  <tbody>\n    <tr>\n      <th>331</th>\n      <td>1.000000</td>\n      <td>John Benjamins Publishing Company</td>\n      <td>1</td>\n    </tr>\n    <tr>\n      <th>624</th>\n      <td>0.966923</td>\n      <td>William B. Eerdmans Publishing Company</td>\n      <td>1</td>\n    </tr>\n  </tbody>\n</table>\n</div>"
     },
     "execution_count": 4,
     "metadata": {},
     "output_type": "execute_result"
    }
   ],
   "source": [
    "sim, df = ir.query_monographs('IBS PAN')\n",
    "print(f'Top candidate similarity: {sim}')\n",
    "df"
   ],
   "metadata": {
    "collapsed": false,
    "pycharm": {
     "name": "#%%\n"
    }
   }
  },
  {
   "cell_type": "code",
   "execution_count": 5,
   "outputs": [
    {
     "name": "stdout",
     "output_type": "stream",
     "text": [
      "Top candidate similarity: 0.8476190476190476\n"
     ]
    },
    {
     "data": {
      "text/plain": "          score                  name  domains_boost\nid                                                  \n1215   1.000000      ANNALS OF BOTANY            1.7\n29823  0.990522  Leśne Prace Badawcze            1.7\n20891  0.637266         Annals of GIS            1.0\n29580  0.637266         Annals of PDE            1.0\n27281  0.598468       Annals of Joint            1.0",
      "text/html": "<div>\n<style scoped>\n    .dataframe tbody tr th:only-of-type {\n        vertical-align: middle;\n    }\n\n    .dataframe tbody tr th {\n        vertical-align: top;\n    }\n\n    .dataframe thead th {\n        text-align: right;\n    }\n</style>\n<table border=\"1\" class=\"dataframe\">\n  <thead>\n    <tr style=\"text-align: right;\">\n      <th></th>\n      <th>score</th>\n      <th>name</th>\n      <th>domains_boost</th>\n    </tr>\n    <tr>\n      <th>id</th>\n      <th></th>\n      <th></th>\n      <th></th>\n    </tr>\n  </thead>\n  <tbody>\n    <tr>\n      <th>1215</th>\n      <td>1.000000</td>\n      <td>ANNALS OF BOTANY</td>\n      <td>1.7</td>\n    </tr>\n    <tr>\n      <th>29823</th>\n      <td>0.990522</td>\n      <td>Leśne Prace Badawcze</td>\n      <td>1.7</td>\n    </tr>\n    <tr>\n      <th>20891</th>\n      <td>0.637266</td>\n      <td>Annals of GIS</td>\n      <td>1.0</td>\n    </tr>\n    <tr>\n      <th>29580</th>\n      <td>0.637266</td>\n      <td>Annals of PDE</td>\n      <td>1.0</td>\n    </tr>\n    <tr>\n      <th>27281</th>\n      <td>0.598468</td>\n      <td>Annals of Joint</td>\n      <td>1.0</td>\n    </tr>\n  </tbody>\n</table>\n</div>"
     },
     "execution_count": 5,
     "metadata": {},
     "output_type": "execute_result"
    }
   ],
   "source": [
    "sim, df = ir.query_journals('annals of nauki leśne', ['nauki leśne'])\n",
    "print(f'Top candidate similarity: {sim}')\n",
    "df"
   ],
   "metadata": {
    "collapsed": false,
    "pycharm": {
     "name": "#%%\n"
    }
   }
  },
  {
   "cell_type": "code",
   "execution_count": 6,
   "outputs": [
    {
     "name": "stdout",
     "output_type": "stream",
     "text": [
      "Top candidate similarity: 0.4917186417186417\n"
     ]
    },
    {
     "data": {
      "text/plain": "          score                                               name  \\\nid                                                                   \n29876  1.000000  TEKA Komisji Polsko-Ukraińskich Związków Kultu...   \n29813  0.853689                                    FORUM PRAWNICZE   \n29828  0.830858                                   Dzieje Najnowsze   \n29880  0.813664                               Studia Prawnicze KUL   \n30052  0.813664                                  Zeszyty Prawnicze   \n\n       domains_boost  \nid                    \n29876              1  \n29813              1  \n29828              1  \n29880              1  \n30052              1  ",
      "text/html": "<div>\n<style scoped>\n    .dataframe tbody tr th:only-of-type {\n        vertical-align: middle;\n    }\n\n    .dataframe tbody tr th {\n        vertical-align: top;\n    }\n\n    .dataframe thead th {\n        text-align: right;\n    }\n</style>\n<table border=\"1\" class=\"dataframe\">\n  <thead>\n    <tr style=\"text-align: right;\">\n      <th></th>\n      <th>score</th>\n      <th>name</th>\n      <th>domains_boost</th>\n    </tr>\n    <tr>\n      <th>id</th>\n      <th></th>\n      <th></th>\n      <th></th>\n    </tr>\n  </thead>\n  <tbody>\n    <tr>\n      <th>29876</th>\n      <td>1.000000</td>\n      <td>TEKA Komisji Polsko-Ukraińskich Związków Kultu...</td>\n      <td>1</td>\n    </tr>\n    <tr>\n      <th>29813</th>\n      <td>0.853689</td>\n      <td>FORUM PRAWNICZE</td>\n      <td>1</td>\n    </tr>\n    <tr>\n      <th>29828</th>\n      <td>0.830858</td>\n      <td>Dzieje Najnowsze</td>\n      <td>1</td>\n    </tr>\n    <tr>\n      <th>29880</th>\n      <td>0.813664</td>\n      <td>Studia Prawnicze KUL</td>\n      <td>1</td>\n    </tr>\n    <tr>\n      <th>30052</th>\n      <td>0.813664</td>\n      <td>Zeszyty Prawnicze</td>\n      <td>1</td>\n    </tr>\n  </tbody>\n</table>\n</div>"
     },
     "execution_count": 6,
     "metadata": {},
     "output_type": "execute_result"
    }
   ],
   "source": [
    "sim, df = ir.query_journals('jeszcze bardziej bez związku z niczem', ['nauki leśne'])\n",
    "print(f'Top candidate similarity: {sim}')\n",
    "df"
   ],
   "metadata": {
    "collapsed": false,
    "pycharm": {
     "name": "#%%\n"
    }
   }
  },
  {
   "cell_type": "code",
   "execution_count": 7,
   "outputs": [
    {
     "name": "stdout",
     "output_type": "stream",
     "text": [
      "Top candidate similarity: 0.8955820921075158\n"
     ]
    },
    {
     "data": {
      "text/plain": "         score                                               name  \\\nid                                                                  \n778   1.000000  International Conference on Grid Computing and...   \n880   0.950556  International Conference on Pervasive Computin...   \n963   0.935159  International Conference on Worldwide Computin...   \n1159  0.905227  International Workshop on Soft Computing Appli...   \n1663  0.903003  IEEE International Conference on Service-Orien...   \n\n      domains_boost  \nid                   \n778               1  \n880               1  \n963               1  \n1159              1  \n1663              1  ",
      "text/html": "<div>\n<style scoped>\n    .dataframe tbody tr th:only-of-type {\n        vertical-align: middle;\n    }\n\n    .dataframe tbody tr th {\n        vertical-align: top;\n    }\n\n    .dataframe thead th {\n        text-align: right;\n    }\n</style>\n<table border=\"1\" class=\"dataframe\">\n  <thead>\n    <tr style=\"text-align: right;\">\n      <th></th>\n      <th>score</th>\n      <th>name</th>\n      <th>domains_boost</th>\n    </tr>\n    <tr>\n      <th>id</th>\n      <th></th>\n      <th></th>\n      <th></th>\n    </tr>\n  </thead>\n  <tbody>\n    <tr>\n      <th>778</th>\n      <td>1.000000</td>\n      <td>International Conference on Grid Computing and...</td>\n      <td>1</td>\n    </tr>\n    <tr>\n      <th>880</th>\n      <td>0.950556</td>\n      <td>International Conference on Pervasive Computin...</td>\n      <td>1</td>\n    </tr>\n    <tr>\n      <th>963</th>\n      <td>0.935159</td>\n      <td>International Conference on Worldwide Computin...</td>\n      <td>1</td>\n    </tr>\n    <tr>\n      <th>1159</th>\n      <td>0.905227</td>\n      <td>International Workshop on Soft Computing Appli...</td>\n      <td>1</td>\n    </tr>\n    <tr>\n      <th>1663</th>\n      <td>0.903003</td>\n      <td>IEEE International Conference on Service-Orien...</td>\n      <td>1</td>\n    </tr>\n  </tbody>\n</table>\n</div>"
     },
     "execution_count": 7,
     "metadata": {},
     "output_type": "execute_result"
    }
   ],
   "source": [
    "sim, df = ir.query_conferences('International Conference on the Applications of Nauki Leśne in Computing')\n",
    "print(f'Top candidate similarity: {sim}')\n",
    "df\n"
   ],
   "metadata": {
    "collapsed": false,
    "pycharm": {
     "name": "#%%\n"
    }
   }
  }
 ],
 "metadata": {
  "kernelspec": {
   "display_name": "Python 3",
   "language": "python",
   "name": "python3"
  },
  "language_info": {
   "codemirror_mode": {
    "name": "ipython",
    "version": 2
   },
   "file_extension": ".py",
   "mimetype": "text/x-python",
   "name": "python",
   "nbconvert_exporter": "python",
   "pygments_lexer": "ipython2",
   "version": "2.7.6"
  }
 },
 "nbformat": 4,
 "nbformat_minor": 0
}