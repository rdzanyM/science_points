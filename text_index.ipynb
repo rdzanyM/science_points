{
 "cells": [
  {
   "cell_type": "code",
   "execution_count": 18,
   "metadata": {
    "collapsed": true
   },
   "outputs": [],
   "source": [
    "import os, os.path\n",
    "import sqlalchemy as sql\n",
    "from whoosh import index, fields, analysis\n",
    "from whoosh.filedb.filestore import FileStorage\n",
    "\n",
    "from src import Config"
   ]
  },
  {
   "cell_type": "code",
   "execution_count": 5,
   "outputs": [],
   "source": [
    "config = Config()\n",
    "index_dir = config['text_index_path']"
   ],
   "metadata": {
    "collapsed": false,
    "pycharm": {
     "name": "#%%\n"
    }
   }
  },
  {
   "cell_type": "code",
   "execution_count": 6,
   "outputs": [],
   "source": [
    "storage = FileStorage(index_dir)\n",
    "storage.clean()"
   ],
   "metadata": {
    "collapsed": false,
    "pycharm": {
     "name": "#%%\n"
    }
   }
  },
  {
   "cell_type": "code",
   "execution_count": 7,
   "outputs": [],
   "source": [
    "schema = fields.Schema(\n",
    "    # Identifier of this entry in the respective DB table\n",
    "    id=fields.ID(stored=True),\n",
    "    # Name (or names) of this journal/conference/publisher\n",
    "    # NOT STORED, used only for scoring\n",
    "    name=fields.NGRAMWORDS(),\n",
    "    # Type of entry (journal/conference/publisher)\n",
    "    # NOT STORED, used only for filtering\n",
    "    type=fields.ID(),\n",
    "    # Names of science domains for this entry\n",
    "    # NOT STORED, used only for scoring\n",
    "    domains=fields.KEYWORD(lowercase=True, commas=True, scorable=True),\n",
    ")"
   ],
   "metadata": {
    "collapsed": false,
    "pycharm": {
     "name": "#%%\n"
    }
   }
  },
  {
   "cell_type": "code",
   "execution_count": 8,
   "outputs": [
    {
     "data": {
      "text/plain": "FileIndex(FileStorage('./text_index'), 'MAIN')"
     },
     "execution_count": 8,
     "metadata": {},
     "output_type": "execute_result"
    }
   ],
   "source": [
    "os.makedirs(index_dir, exist_ok=True)\n",
    "storage.create_index(schema)"
   ],
   "metadata": {
    "collapsed": false,
    "pycharm": {
     "name": "#%%\n"
    }
   }
  },
  {
   "cell_type": "code",
   "execution_count": 25,
   "outputs": [],
   "source": [
    "engine = sql.create_engine(f\"sqlite:///{config['db_file']}\")\n",
    "conn = engine.connect()"
   ],
   "metadata": {
    "collapsed": false,
    "pycharm": {
     "name": "#%%\n"
    }
   }
  },
  {
   "cell_type": "code",
   "execution_count": 23,
   "outputs": [],
   "source": [
    "meta = sql.MetaData()\n",
    "monographs = sql.Table('Monographs', meta, autoload_with=engine)\n"
   ],
   "metadata": {
    "collapsed": false,
    "pycharm": {
     "name": "#%%\n"
    }
   }
  },
  {
   "cell_type": "code",
   "execution_count": 11,
   "outputs": [],
   "source": [
    "ix = index.open_dir(index_dir)\n",
    "writer = ix.writer()"
   ],
   "metadata": {
    "collapsed": false,
    "pycharm": {
     "name": "#%%\n"
    }
   }
  },
  {
   "cell_type": "code",
   "execution_count": null,
   "outputs": [],
   "source": [
    "# brok.\n",
    "for r in conn.execute(sql.select(monographs)):\n",
    "    print(r)"
   ],
   "metadata": {
    "collapsed": false,
    "pycharm": {
     "name": "#%%\n"
    }
   }
  }
 ],
 "metadata": {
  "kernelspec": {
   "display_name": "Python 3",
   "language": "python",
   "name": "python3"
  },
  "language_info": {
   "codemirror_mode": {
    "name": "ipython",
    "version": 2
   },
   "file_extension": ".py",
   "mimetype": "text/x-python",
   "name": "python",
   "nbconvert_exporter": "python",
   "pygments_lexer": "ipython2",
   "version": "2.7.6"
  }
 },
 "nbformat": 4,
 "nbformat_minor": 0
}