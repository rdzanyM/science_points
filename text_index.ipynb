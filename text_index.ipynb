{
 "cells": [
  {
   "cell_type": "code",
   "execution_count": 3,
   "metadata": {
    "collapsed": true
   },
   "outputs": [],
   "source": [
    "import os, os.path\n",
    "import yaml\n",
    "\n",
    "import sqlalchemy as sql\n",
    "from sqlalchemy.orm import sessionmaker\n",
    "from whoosh import index, fields, analysis, query\n",
    "from whoosh.qparser import QueryParser, OrGroup\n",
    "from whoosh.filedb.filestore import FileStorage\n",
    "\n",
    "from src import Config\n",
    "from src.orm import Monographs"
   ]
  },
  {
   "cell_type": "code",
   "execution_count": 4,
   "outputs": [
    {
     "name": "stdout",
     "output_type": "stream",
     "text": [
      "((name:inst OR name:nsty OR name:styt OR name:tytu OR name:ytut OR name:bada OR name:adań OR name:syst OR name:yste OR name:stem OR name:temo OR name:emow OR name:mowy OR name:owyc OR name:wych OR name:pols OR name:olsk OR name:lski OR name:skie OR name:kiej OR name:akad OR name:kade OR name:adem OR name:demi OR name:emii OR name:nauk) REQUIRE type:publisher)\n"
     ]
    },
    {
     "data": {
      "text/plain": "[]"
     },
     "execution_count": 4,
     "metadata": {},
     "output_type": "execute_result"
    }
   ],
   "source": [
    "from src.text_index import IndexReader\n",
    "\n",
    "config = Config()\n",
    "index_dir = config['text_index_path']\n",
    "\n",
    "ir = IndexReader(config)\n",
    "ir.query_monographs('Instytut badań systemowych polskiej akademii nauk')\n"
   ],
   "metadata": {
    "collapsed": false,
    "pycharm": {
     "name": "#%%\n"
    }
   }
  },
  {
   "cell_type": "code",
   "execution_count": 6,
   "outputs": [],
   "source": [
    "schema = fields.Schema(\n",
    "    # Identifier of this entry in the respective DB table\n",
    "    id=fields.ID(stored=True),\n",
    "    # Name (or names) of this journal/conference/publisher\n",
    "    # NOT STORED, used only for scoring\n",
    "    name=fields.NGRAMWORDS(queryor=True, stored=True),\n",
    "    # Type of entry (journal/conference/publisher)\n",
    "    # NOT STORED, used only for filtering\n",
    "    type=fields.ID(),\n",
    "    # Names of science domains for this entry\n",
    "    # NOT STORED, used only for scoring\n",
    "    domains=fields.KEYWORD(lowercase=True, commas=True, scorable=True),\n",
    ")\n",
    "\n",
    "class EntryType:\n",
    "    Conference = 'conference'\n",
    "    Journal = 'journal'\n",
    "    Publisher = 'publisher'"
   ],
   "metadata": {
    "collapsed": false,
    "pycharm": {
     "name": "#%%\n"
    }
   }
  },
  {
   "cell_type": "code",
   "execution_count": 4,
   "outputs": [
    {
     "data": {
      "text/plain": "FileIndex(FileStorage('./text_index'), 'MAIN')"
     },
     "execution_count": 4,
     "metadata": {},
     "output_type": "execute_result"
    }
   ],
   "source": [
    "os.makedirs(index_dir, exist_ok=True)\n",
    "storage = FileStorage(index_dir)\n",
    "# storage.clean()\n",
    "storage.create_index(schema)"
   ],
   "metadata": {
    "collapsed": false,
    "pycharm": {
     "name": "#%%\n"
    }
   }
  },
  {
   "cell_type": "code",
   "execution_count": 5,
   "outputs": [],
   "source": [
    "engine = sql.create_engine(f\"sqlite:///{config['db_file']}\")\n",
    "Session = sessionmaker(bind=engine)\n",
    "session = Session()"
   ],
   "metadata": {
    "collapsed": false,
    "pycharm": {
     "name": "#%%\n"
    }
   }
  },
  {
   "cell_type": "code",
   "execution_count": 6,
   "outputs": [],
   "source": [
    "ix = index.open_dir(index_dir)"
   ],
   "metadata": {
    "collapsed": false,
    "pycharm": {
     "name": "#%%\n"
    }
   }
  },
  {
   "cell_type": "code",
   "execution_count": 7,
   "outputs": [],
   "source": [
    "writer = ix.writer()\n",
    "\n",
    "try:\n",
    "    for r in session.query(Monographs):\n",
    "        writer.add_document(\n",
    "            id=str(r.id),\n",
    "            name=r.publisher_name,\n",
    "            # name_ngram=r.publisher_name,\n",
    "            type=EntryType.Publisher,\n",
    "        )\n",
    "\n",
    "    writer.commit()\n",
    "except:\n",
    "    writer.cancel()\n",
    "    print('Failed to index documents')\n",
    "    raise"
   ],
   "metadata": {
    "collapsed": false,
    "pycharm": {
     "name": "#%%\n"
    }
   }
  },
  {
   "cell_type": "code",
   "execution_count": 11,
   "outputs": [],
   "source": [
    "with ix.searcher() as s:\n",
    "    to_find = 'Instytut Badania Systemowych Polskiej Akademii Nauk'\n",
    "\n",
    "    name_parser = QueryParser('name', ix.schema, plugins=[], group=OrGroup)\n",
    "    q = query.Or([\n",
    "        name_parser.parse(to_find),\n",
    "    ])\n",
    "    results = s.search(q)\n",
    "    v = [\n",
    "        {\n",
    "            'id': hit['id'],\n",
    "            'name': hit['name'],\n",
    "            'score': hit.score\n",
    "        }\n",
    "        for hit in results\n",
    "    ]"
   ],
   "metadata": {
    "collapsed": false,
    "pycharm": {
     "name": "#%%\n"
    }
   }
  },
  {
   "cell_type": "code",
   "execution_count": 9,
   "outputs": [],
   "source": [
    "v2 = v"
   ],
   "metadata": {
    "collapsed": false,
    "pycharm": {
     "name": "#%%\n"
    }
   }
  }
 ],
 "metadata": {
  "kernelspec": {
   "display_name": "Python 3",
   "language": "python",
   "name": "python3"
  },
  "language_info": {
   "codemirror_mode": {
    "name": "ipython",
    "version": 2
   },
   "file_extension": ".py",
   "mimetype": "text/x-python",
   "name": "python",
   "nbconvert_exporter": "python",
   "pygments_lexer": "ipython2",
   "version": "2.7.6"
  }
 },
 "nbformat": 4,
 "nbformat_minor": 0
}